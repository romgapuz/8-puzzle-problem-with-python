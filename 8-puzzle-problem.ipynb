{
 "cells": [
  {
   "cell_type": "markdown",
   "id": "3d6bdf8e-5dfc-4c90-a8e4-1e305b4aa9cb",
   "metadata": {},
   "source": [
    "# 8-puzzle problem with BFS and A* Search Algorithms in Python\n",
    "\n",
    "The 8-puzzle is a classic sliding puzzle game where the objective is to rearrange a set of 8 numbered tiles in a 3x3 grid to match a given goal configuration. In this Python code, we are solving the 8-puzzle problem using two (2) popular search algorithms: Breadth-First Search (BFS) and A* Search.\n",
    "\n",
    "At the end we benchmark each algorithms with increasing problem complexity and compare their performance."
   ]
  },
  {
   "cell_type": "markdown",
   "id": "deb28a42-7663-4fee-afc8-8710d6b5fe10",
   "metadata": {
    "tags": []
   },
   "source": [
    "## Variable and Class Definition"
   ]
  },
  {
   "cell_type": "markdown",
   "id": "18b35fa9-df40-4543-a0ae-c11df7da21e1",
   "metadata": {},
   "source": [
    "### Initialization\n",
    "\n",
    "First, import required Python libraries."
   ]
  },
  {
   "cell_type": "code",
   "execution_count": 1,
   "id": "263aba8c-7945-49da-94c3-6e92e2172f0e",
   "metadata": {},
   "outputs": [],
   "source": [
    "import random\n",
    "import copy\n",
    "import time\n",
    "import matplotlib.pyplot as plt"
   ]
  },
  {
   "cell_type": "markdown",
   "id": "14f777a5-686d-4402-bb80-4398b78693ee",
   "metadata": {},
   "source": [
    "The **puzzle size is 3x3 by default** since the goal is to solve an 8-puzzle problem. However, the code below supports user-defined column and row size.\n",
    "\n",
    "Please take note that the bigger the puzzle the *slower the solution* and may result *unexpected behavior* for huge puzzle size."
   ]
  },
  {
   "cell_type": "code",
   "execution_count": 2,
   "id": "8eab6ad8-fb74-475f-9c1b-e9358e8ac9a1",
   "metadata": {},
   "outputs": [],
   "source": [
    "cols, rows = (3, 3)"
   ]
  },
  {
   "cell_type": "markdown",
   "id": "dc0ae218-87c5-41ee-bf65-344706f90235",
   "metadata": {},
   "source": [
    "### Puzzle Class\n",
    "\n",
    "The **Puzzle** class defines a sliding tile problem.\n",
    "\n",
    "- Instance of the class will start as solved.\n",
    "- Print function can be used to display the puzzle. Although shown as a 2D puzzle when displayed, the puzzle is stored as single-dimension array for simplicity.\n",
    "- The class also support the functions to move tiles, check valid moves, shuffle the puzzle, and check if puzzle is solved."
   ]
  },
  {
   "cell_type": "code",
   "execution_count": 3,
   "id": "1c93d7c1-7345-4df7-95f9-98d4af027272",
   "metadata": {},
   "outputs": [],
   "source": [
    "class Puzzle():\n",
    "    # constructor\n",
    "    def __init__(self, cols, rows):\n",
    "        # save dimension and init blank spot\n",
    "        self.cols = cols\n",
    "        self.rows = rows\n",
    "        \n",
    "        # build number list\n",
    "        self.board = []\n",
    "        for i in range(cols*rows):\n",
    "            self.board.append(i)\n",
    "        self.goal = self.board.copy()\n",
    "            \n",
    "        # set blank\n",
    "        self.blank = 0\n",
    "    \n",
    "    # called when print() is used with the class object, to display the 2D puzzle\n",
    "    def __str__(self):\n",
    "        # calculate cell length\n",
    "        str_len = len(str(self.rows * self.cols -1)) + 2\n",
    "        build_str = ''\n",
    "        \n",
    "        col, row = (0, self.rows-1)\n",
    "        build_str = build_str + ('|' + '-' * str_len) * self.cols + '|\\n' # top border\n",
    "        for i in range(self.cols*self.rows):\n",
    "            if self.board[i] == 0: # if 0 then put as blank\n",
    "                build_str = build_str + '|' + ' ' * str_len\n",
    "            else:\n",
    "                build_str = build_str + '|' + ('%d' % self.board[i]).center(str_len)\n",
    "            col = col + 1\n",
    "            if col == self.cols:\n",
    "                col = 0\n",
    "                row = row - 1\n",
    "                build_str = build_str + '|\\n' + ('|' + '-' * str_len) * self.cols + '|\\n' # bottom border\n",
    "                \n",
    "        return build_str\n",
    "    \n",
    "    # used the __str__ function to return the object's string representation\n",
    "    def __repr__(self):\n",
    "        return self.__str__()\n",
    "    \n",
    "    # swap given tile with the blank tile\n",
    "    def swap(self, tile):\n",
    "        val = self.board[tile]\n",
    "        self.board[self.blank] = val\n",
    "        self.board[tile] = 0\n",
    "        self.blank = tile\n",
    "    \n",
    "    # check if given move is valid\n",
    "    def can_move(self, move):\n",
    "        valid_moves = ['up', 'down', 'right', 'left']\n",
    "        valid = False\n",
    "        if move in valid_moves:\n",
    "            if move == 'up':\n",
    "                valid = self.blank < ((self.cols * self.rows) - self.cols)\n",
    "            if move == 'down':\n",
    "                valid = self.blank > (self.cols - 1)\n",
    "            if move == 'right':\n",
    "                valid = self.blank % self.cols > 0\n",
    "            if move == 'left':\n",
    "                valid = (self.blank + 1) % self.cols > 0\n",
    "        return valid\n",
    "    \n",
    "    # move puzzle in reference to the blank tile\n",
    "    def move(self, move):\n",
    "        move_flag = False\n",
    "        if move in ['up', 'down', 'right', 'left']:\n",
    "            if move == 'up' and self.can_move('up'):\n",
    "                self.swap(self.blank + self.cols)\n",
    "                move_flag = True\n",
    "            if move == 'down' and self.can_move('down'):\n",
    "                self.swap(self.blank - self.cols)\n",
    "                move_flag = True\n",
    "            if move == 'right' and self.can_move('right'):\n",
    "                self.swap(self.blank - 1)\n",
    "                move_flag = True\n",
    "            if move == 'left' and self.can_move('left'):\n",
    "                self.swap(self.blank + 1)\n",
    "                move_flag = True\n",
    "        return move_flag\n",
    "    \n",
    "    # shuffle entire puzzle by randomly moving tiles\n",
    "    def shuffle(self, moves):\n",
    "        previous_move = None\n",
    "        while moves > 0:\n",
    "            move = random.choice(['up', 'down', 'right', 'left'])\n",
    "            if move == 'up' and previous_move != 'down':\n",
    "                if self.move('up'):\n",
    "                    previous_move = 'up'\n",
    "                    moves = moves - 1\n",
    "            if move == 'down' and previous_move != 'up':\n",
    "                if self.move('down'):\n",
    "                    previous_move = 'down'\n",
    "                    moves = moves - 1\n",
    "            if move == 'right' and previous_move != 'left':\n",
    "                if self.move('right'):\n",
    "                    previous_move = 'right'\n",
    "                    moves = moves - 1\n",
    "            if move == 'left' and previous_move != 'right':\n",
    "                if self.move('left'):\n",
    "                    previous_move = 'left'\n",
    "                    moves = moves - 1\n",
    "    \n",
    "    # check if puzzle is solved\n",
    "    def is_solved(self):\n",
    "        return self.board == self.goal # compare to the goal"
   ]
  },
  {
   "cell_type": "markdown",
   "id": "eb22289a-6d22-459c-96fe-eceffd89fa4d",
   "metadata": {},
   "source": [
    "#### Test Puzzle Class\n",
    "\n",
    "To test the Puzzle class, let's instantiate a puzzle from the given number of column and row (3x3). Then print it to show the start state (which is also the goal state)."
   ]
  },
  {
   "cell_type": "code",
   "execution_count": 4,
   "id": "17122d4a-d2e9-45b1-b4ce-547b88d7aa4f",
   "metadata": {},
   "outputs": [
    {
     "name": "stdout",
     "output_type": "stream",
     "text": [
      "|---|---|---|\n",
      "|   | 1 | 2 |\n",
      "|---|---|---|\n",
      "| 3 | 4 | 5 |\n",
      "|---|---|---|\n",
      "| 6 | 7 | 8 |\n",
      "|---|---|---|\n",
      "\n"
     ]
    }
   ],
   "source": [
    "puzzle = Puzzle(cols, rows)\n",
    "print(puzzle)"
   ]
  },
  {
   "cell_type": "markdown",
   "id": "6628c576-f82d-492b-8ea3-8aae9344b6c1",
   "metadata": {},
   "source": [
    "When we check the newly-instantiated puzzle if it is solved. It should show as **True**."
   ]
  },
  {
   "cell_type": "code",
   "execution_count": 5,
   "id": "1f0b613f-af73-4978-ad74-f31a82393081",
   "metadata": {},
   "outputs": [
    {
     "data": {
      "text/plain": [
       "True"
      ]
     },
     "execution_count": 5,
     "metadata": {},
     "output_type": "execute_result"
    }
   ],
   "source": [
    "puzzle.is_solved()"
   ]
  },
  {
   "cell_type": "markdown",
   "id": "43b3e1cd-35b1-41ab-8027-7d477814fc62",
   "metadata": {},
   "source": [
    "Perform a shuffle by providing the number of moves of the shuffle. The higher the number of moves, the more complex the solution."
   ]
  },
  {
   "cell_type": "code",
   "execution_count": 6,
   "id": "e6f51a9f-21a4-413a-b825-1886ff9d3b44",
   "metadata": {},
   "outputs": [],
   "source": [
    "puzzle.shuffle(100)"
   ]
  },
  {
   "cell_type": "markdown",
   "id": "7fb0e7bc-61b4-4f14-b032-c415aced0e4a",
   "metadata": {},
   "source": [
    "Then display the shuffled puzzle."
   ]
  },
  {
   "cell_type": "code",
   "execution_count": 7,
   "id": "3e7cafaf-4ead-415c-ad0e-6cb0d01ba19e",
   "metadata": {},
   "outputs": [
    {
     "data": {
      "text/plain": [
       "|---|---|---|\n",
       "| 8 | 3 | 6 |\n",
       "|---|---|---|\n",
       "| 5 | 2 | 1 |\n",
       "|---|---|---|\n",
       "| 7 | 4 |   |\n",
       "|---|---|---|"
      ]
     },
     "execution_count": 7,
     "metadata": {},
     "output_type": "execute_result"
    }
   ],
   "source": [
    "puzzle"
   ]
  },
  {
   "cell_type": "markdown",
   "id": "f8cb3ef4-a661-49ee-acd3-2d927d5bae9e",
   "metadata": {},
   "source": [
    "Let's check if this shuffled puzzle is solved. It should show as **False**."
   ]
  },
  {
   "cell_type": "code",
   "execution_count": 8,
   "id": "7e9a7a41-db78-406a-999d-159a5fbf7377",
   "metadata": {},
   "outputs": [
    {
     "data": {
      "text/plain": [
       "False"
      ]
     },
     "execution_count": 8,
     "metadata": {},
     "output_type": "execute_result"
    }
   ],
   "source": [
    "puzzle.is_solved()"
   ]
  },
  {
   "cell_type": "markdown",
   "id": "83e9fce1-d487-45c6-9c98-8cd975f18ac8",
   "metadata": {},
   "source": [
    "### Node Class\n",
    "\n",
    "The **Node** class defined a node in a tree data structure. The class also provide references to a parent and four (4) child nodes. These child nodes represents each moves: up, down, right, and left."
   ]
  },
  {
   "cell_type": "code",
   "execution_count": 9,
   "id": "398feb21-8f52-4c82-9bd1-eabbd189ac57",
   "metadata": {},
   "outputs": [],
   "source": [
    "class Node():\n",
    "    # constructor\n",
    "    def __init__(self, state):\n",
    "        self.depth = 0\n",
    "        self.state = state\n",
    "        self.child = [None, None, None, None]\n",
    "        self.parent = None\n",
    "        self.move = None\n",
    "    \n",
    "    # string representation of the class\n",
    "    def __str__(self):\n",
    "        return self.state\n",
    "    \n",
    "    # duplicate node class used by expand function\n",
    "    def duplicate(self):\n",
    "        dupe = copy.deepcopy(self)\n",
    "        dupe.depth = dupe.depth + 1\n",
    "        dupe.child = [None, None, None, None]\n",
    "        dupe.parent = None\n",
    "        dupe.move = None\n",
    "        return dupe\n",
    "    \n",
    "    # expand child node\n",
    "    def expand(self, states):\n",
    "        if self.state.can_move('up'):\n",
    "            self.child[0] = self.duplicate()\n",
    "            self.child[0].state.move('up')\n",
    "            if self.child[0].state.board in states:\n",
    "                self.child[0] = None\n",
    "            else:\n",
    "                self.child[0].parent = self\n",
    "                self.child[0].move = \"up\"\n",
    "        if self.state.can_move('down'):\n",
    "            self.child[1] = self.duplicate()\n",
    "            self.child[1].state.move('down')\n",
    "            if self.child[1].state.board in states:\n",
    "                self.child[1] = None\n",
    "            else:\n",
    "                self.child[1].parent = self\n",
    "                self.child[1].move = \"down\"\n",
    "        if self.state.can_move('right'):\n",
    "            self.child[2] = self.duplicate()\n",
    "            self.child[2].state.move('right')\n",
    "            if self.child[2].state.board in states:\n",
    "                self.child[2] = None\n",
    "            else:\n",
    "                self.child[2].parent = self\n",
    "                self.child[2].move = \"right\"\n",
    "        if self.state.can_move('left'):\n",
    "            self.child[3] = self.duplicate()\n",
    "            self.child[3].state.move('left')\n",
    "            if self.child[3].state.board in states:\n",
    "                self.child[3] = None\n",
    "            else:\n",
    "                self.child[3].parent = self\n",
    "                self.child[3].move = \"left\"\n",
    "    \n",
    "    # check if current state is solved\n",
    "    def is_solved(self):\n",
    "        return self.state.is_solved()"
   ]
  },
  {
   "cell_type": "markdown",
   "id": "7d672384-bde4-4aa3-b384-a6e3e8efefb8",
   "metadata": {
    "tags": []
   },
   "source": [
    "#### Test Node Class\n",
    "\n",
    "To start, initialize node class by passing an instance of Puzzle class."
   ]
  },
  {
   "cell_type": "code",
   "execution_count": 10,
   "id": "f4e58fa9-3c33-4530-8dbd-aaed32eea94b",
   "metadata": {},
   "outputs": [],
   "source": [
    "single_node = Node(Puzzle(cols, rows))"
   ]
  },
  {
   "cell_type": "markdown",
   "id": "b2ce500b-0a88-4385-b6a8-f5ffb9c9db85",
   "metadata": {},
   "source": [
    "Let's see the initial state of the node. This is also the **goal** state."
   ]
  },
  {
   "cell_type": "code",
   "execution_count": 11,
   "id": "a2e307f1-aa17-408f-b394-835337c520d9",
   "metadata": {},
   "outputs": [
    {
     "data": {
      "text/plain": [
       "|---|---|---|\n",
       "|   | 1 | 2 |\n",
       "|---|---|---|\n",
       "| 3 | 4 | 5 |\n",
       "|---|---|---|\n",
       "| 6 | 7 | 8 |\n",
       "|---|---|---|"
      ]
     },
     "execution_count": 11,
     "metadata": {},
     "output_type": "execute_result"
    }
   ],
   "source": [
    "single_node.state"
   ]
  },
  {
   "cell_type": "markdown",
   "id": "a60ea7ae-54fe-4d51-a077-1dd09cd5057d",
   "metadata": {},
   "source": [
    "Let's shuffle the root node. Only one (1) move for now."
   ]
  },
  {
   "cell_type": "code",
   "execution_count": 12,
   "id": "5fb93fcf-de2f-4d18-af09-cf3edd2763ef",
   "metadata": {},
   "outputs": [
    {
     "data": {
      "text/plain": [
       "|---|---|---|\n",
       "| 1 |   | 2 |\n",
       "|---|---|---|\n",
       "| 3 | 4 | 5 |\n",
       "|---|---|---|\n",
       "| 6 | 7 | 8 |\n",
       "|---|---|---|"
      ]
     },
     "execution_count": 12,
     "metadata": {},
     "output_type": "execute_result"
    }
   ],
   "source": [
    "single_node.state.shuffle(1)\n",
    "single_node.state"
   ]
  },
  {
   "cell_type": "markdown",
   "id": "5eca94ba-a321-4a09-bdce-a4bb92803e13",
   "metadata": {},
   "source": [
    "Run the expand function to show possible child nodes"
   ]
  },
  {
   "cell_type": "code",
   "execution_count": 13,
   "id": "cba99278-4093-48df-bd0f-de8b2d1e33cb",
   "metadata": {},
   "outputs": [
    {
     "data": {
      "text/plain": [
       "[<__main__.Node at 0x10ce91940>,\n",
       " None,\n",
       " <__main__.Node at 0x10ce913d0>,\n",
       " <__main__.Node at 0x10ce91610>]"
      ]
     },
     "execution_count": 13,
     "metadata": {},
     "output_type": "execute_result"
    }
   ],
   "source": [
    "single_node.expand([single_node.state.board])\n",
    "single_node.child"
   ]
  },
  {
   "cell_type": "markdown",
   "id": "dec1ff87-6e8d-4c2e-b3fb-b96ea638547b",
   "metadata": {},
   "source": [
    "Display all the child nodes"
   ]
  },
  {
   "cell_type": "code",
   "execution_count": 14,
   "id": "ec18e595-9d13-4203-b890-15c62f178226",
   "metadata": {},
   "outputs": [
    {
     "name": "stdout",
     "output_type": "stream",
     "text": [
      "|---|---|---|\n",
      "| 1 | 4 | 2 |\n",
      "|---|---|---|\n",
      "| 3 |   | 5 |\n",
      "|---|---|---|\n",
      "| 6 | 7 | 8 |\n",
      "|---|---|---|\n"
     ]
    }
   ],
   "source": [
    "print(single_node.child[0].state if single_node.child[0] is not None else 'Up move not valid', end='')"
   ]
  },
  {
   "cell_type": "code",
   "execution_count": 15,
   "id": "7bfa6fa8-e703-4c01-8cd6-e7bd0cea0917",
   "metadata": {},
   "outputs": [
    {
     "name": "stdout",
     "output_type": "stream",
     "text": [
      "Down move not valid"
     ]
    }
   ],
   "source": [
    "print(single_node.child[1].state if single_node.child[1] is not None else 'Down move not valid', end='')"
   ]
  },
  {
   "cell_type": "code",
   "execution_count": 16,
   "id": "d4425040-89dc-4440-84ef-30584861ece2",
   "metadata": {},
   "outputs": [
    {
     "name": "stdout",
     "output_type": "stream",
     "text": [
      "|---|---|---|\n",
      "|   | 1 | 2 |\n",
      "|---|---|---|\n",
      "| 3 | 4 | 5 |\n",
      "|---|---|---|\n",
      "| 6 | 7 | 8 |\n",
      "|---|---|---|\n"
     ]
    }
   ],
   "source": [
    "print(single_node.child[2].state if single_node.child[2] is not None else 'Right move not valid', end='')"
   ]
  },
  {
   "cell_type": "code",
   "execution_count": 17,
   "id": "28780d7c-1494-41da-a518-7d1f63c467f7",
   "metadata": {},
   "outputs": [
    {
     "name": "stdout",
     "output_type": "stream",
     "text": [
      "|---|---|---|\n",
      "| 1 | 2 |   |\n",
      "|---|---|---|\n",
      "| 3 | 4 | 5 |\n",
      "|---|---|---|\n",
      "| 6 | 7 | 8 |\n",
      "|---|---|---|\n"
     ]
    }
   ],
   "source": [
    "print(single_node.child[3].state if single_node.child[3] is not None else 'Left move not valid', end='')"
   ]
  },
  {
   "cell_type": "markdown",
   "id": "83dd706b-1bc8-4c8d-b929-66fa0c7fe4b3",
   "metadata": {},
   "source": [
    "## Breadth-first search (BFS) algorithm\n",
    "\n",
    "The BFS algorithm explores all the possible moves from the current state, adding them to a queue, and then processing them in the order they were added. This ensures that the first solution found is the shortest path to the goal."
   ]
  },
  {
   "cell_type": "markdown",
   "id": "9f2d63d3-979e-4dab-8329-84afd45b5e5e",
   "metadata": {},
   "source": [
    "### Define and Test BFS Algorithm"
   ]
  },
  {
   "cell_type": "markdown",
   "id": "dd01e303-88ec-47ff-ba9e-d8e0067bb77c",
   "metadata": {},
   "source": [
    "#### Define BFS function"
   ]
  },
  {
   "cell_type": "code",
   "execution_count": 18,
   "id": "309beb8a-f00f-4034-a552-d63c4d2d5926",
   "metadata": {},
   "outputs": [],
   "source": [
    "def bfs(root):\n",
    "    # start timer\n",
    "    start = time.time()\n",
    "    \n",
    "    # initialize queue\n",
    "    queue = [root]\n",
    "    states = [root.state.board]\n",
    "    solution = None\n",
    "    \n",
    "    # loop to find solution\n",
    "    while queue:\n",
    "        # pop node from queue\n",
    "        node = queue.pop(0)\n",
    "\n",
    "        # check if solved\n",
    "        if node.is_solved():\n",
    "            solution = node # found the solution!\n",
    "            break\n",
    "\n",
    "        # expand node\n",
    "        node.expand(states)\n",
    "        for c in node.child: # loop through child nodes\n",
    "            if c is not None:\n",
    "                queue.append(c) # add child to queue\n",
    "                states.append(c.state.board) # add child state to list of unique states\n",
    "                \n",
    "    # end timer\n",
    "    end = time.time()\n",
    "    \n",
    "    # return solution and other useful variables\n",
    "    return solution, queue, states, (end-start) * 10**3"
   ]
  },
  {
   "cell_type": "markdown",
   "id": "2b0d89ef-6a49-426b-a00f-1a724fbe37de",
   "metadata": {},
   "source": [
    "#### Initialize Puzzle Problem"
   ]
  },
  {
   "cell_type": "code",
   "execution_count": 19,
   "id": "03c34601-3ef6-4480-861f-faaf78fece56",
   "metadata": {},
   "outputs": [
    {
     "data": {
      "text/plain": [
       "|---|---|---|\n",
       "|   | 1 | 2 |\n",
       "|---|---|---|\n",
       "| 3 | 4 | 5 |\n",
       "|---|---|---|\n",
       "| 6 | 7 | 8 |\n",
       "|---|---|---|"
      ]
     },
     "execution_count": 19,
     "metadata": {},
     "output_type": "execute_result"
    }
   ],
   "source": [
    "root = Node(Puzzle(cols, rows))\n",
    "root.state"
   ]
  },
  {
   "cell_type": "code",
   "execution_count": 20,
   "id": "91dee098-39b2-4e4d-a489-a0ebd9e01d36",
   "metadata": {},
   "outputs": [
    {
     "data": {
      "text/plain": [
       "|---|---|---|\n",
       "| 1 |   | 5 |\n",
       "|---|---|---|\n",
       "| 3 | 2 | 4 |\n",
       "|---|---|---|\n",
       "| 6 | 7 | 8 |\n",
       "|---|---|---|"
      ]
     },
     "execution_count": 20,
     "metadata": {},
     "output_type": "execute_result"
    }
   ],
   "source": [
    "root.state.shuffle(5)\n",
    "root.state"
   ]
  },
  {
   "cell_type": "markdown",
   "id": "9d768d0f-31a3-4012-8135-850b58420d0e",
   "metadata": {},
   "source": [
    "#### Run BFS function"
   ]
  },
  {
   "cell_type": "code",
   "execution_count": 21,
   "id": "c31907e2-0435-4f95-81d5-cdb7b9a11baf",
   "metadata": {},
   "outputs": [],
   "source": [
    "# run BFS\n",
    "solution, queue, states, time_elapsed = bfs(root)"
   ]
  },
  {
   "cell_type": "markdown",
   "id": "3397d79c-7595-4e50-bdaf-6e82b4efd5f1",
   "metadata": {},
   "source": [
    "#### Display Puzzle Solution Statistics"
   ]
  },
  {
   "cell_type": "code",
   "execution_count": 22,
   "id": "0bbc4352-de26-480c-91f7-a021b914f15b",
   "metadata": {},
   "outputs": [],
   "source": [
    "def display_stats(problem, solution, queue, states, time_elapsed):\n",
    "    print('Starting problem:')\n",
    "    print(problem)\n",
    "    print('Solution total depth: %d' % solution.depth)\n",
    "    print('Ending queue size: %d' % len(queue))\n",
    "    print('Nodes evaluated (popped): %d' % (len(states) - len(queue)))\n",
    "    print('Nodes expanded (total): %d' % len(states))\n",
    "    print('Elapsed time: %d ms' % time_elapsed)"
   ]
  },
  {
   "cell_type": "code",
   "execution_count": 23,
   "id": "f0486b76-e512-4bef-b3f9-722da6c09b98",
   "metadata": {},
   "outputs": [
    {
     "name": "stdout",
     "output_type": "stream",
     "text": [
      "Starting problem:\n",
      "|---|---|---|\n",
      "| 1 |   | 5 |\n",
      "|---|---|---|\n",
      "| 3 | 2 | 4 |\n",
      "|---|---|---|\n",
      "| 6 | 7 | 8 |\n",
      "|---|---|---|\n",
      "\n",
      "Solution total depth: 5\n",
      "Ending queue size: 39\n",
      "Nodes evaluated (popped): 45\n",
      "Nodes expanded (total): 84\n",
      "Elapsed time: 166 ms\n"
     ]
    }
   ],
   "source": [
    "display_stats(root.state, solution, queue, states, time_elapsed)"
   ]
  },
  {
   "cell_type": "markdown",
   "id": "a3fa519e-4378-4904-987d-c922b5008e15",
   "metadata": {},
   "source": [
    "#### Define Path Functions"
   ]
  },
  {
   "cell_type": "code",
   "execution_count": 24,
   "id": "33ce9712-ad11-40b3-9b71-6cffa29f01da",
   "metadata": {},
   "outputs": [],
   "source": [
    "def find_path(solution):\n",
    "    temp_path, path = ([], [])\n",
    "\n",
    "    # walk path from solution to root\n",
    "    temp_path.append(copy.deepcopy(solution))\n",
    "    current_node = copy.deepcopy(solution)\n",
    "    for i in range(solution.depth):\n",
    "        temp_path.append(copy.deepcopy(current_node.parent))\n",
    "        current_node = copy.deepcopy(current_node.parent)\n",
    "\n",
    "    # save path in order from root to solution\n",
    "    for i in range(solution.depth, -1, -1):\n",
    "        path.append(temp_path[i])\n",
    "        \n",
    "    return path"
   ]
  },
  {
   "cell_type": "code",
   "execution_count": 25,
   "id": "b573984a-8755-439c-a60d-790fa13f9c8d",
   "metadata": {},
   "outputs": [],
   "source": [
    "def display_path(path):\n",
    "    # display path to solution\n",
    "    depth = 0\n",
    "    for p in path:\n",
    "        if depth == 0:\n",
    "            print('Depth: %d, Problem' % depth)\n",
    "        if depth > 0 and depth <= solution.depth:\n",
    "            print('Depth: %d, Move: %s%s' % (depth, p.move, ', Solution' if depth == solution.depth else ''))\n",
    "        print(p.state)\n",
    "        depth = depth + 1"
   ]
  },
  {
   "cell_type": "markdown",
   "id": "73927c79-b637-4109-8f0c-3dba0670b6da",
   "metadata": {},
   "source": [
    "#### Display Solution Path"
   ]
  },
  {
   "cell_type": "code",
   "execution_count": 26,
   "id": "fdc1542e-ca67-4c82-899d-5b2d2b6a75e3",
   "metadata": {},
   "outputs": [
    {
     "name": "stdout",
     "output_type": "stream",
     "text": [
      "Depth: 0, Problem\n",
      "|---|---|---|\n",
      "| 1 |   | 5 |\n",
      "|---|---|---|\n",
      "| 3 | 2 | 4 |\n",
      "|---|---|---|\n",
      "| 6 | 7 | 8 |\n",
      "|---|---|---|\n",
      "\n",
      "Depth: 1, Move: up\n",
      "|---|---|---|\n",
      "| 1 | 2 | 5 |\n",
      "|---|---|---|\n",
      "| 3 |   | 4 |\n",
      "|---|---|---|\n",
      "| 6 | 7 | 8 |\n",
      "|---|---|---|\n",
      "\n",
      "Depth: 2, Move: left\n",
      "|---|---|---|\n",
      "| 1 | 2 | 5 |\n",
      "|---|---|---|\n",
      "| 3 | 4 |   |\n",
      "|---|---|---|\n",
      "| 6 | 7 | 8 |\n",
      "|---|---|---|\n",
      "\n",
      "Depth: 3, Move: down\n",
      "|---|---|---|\n",
      "| 1 | 2 |   |\n",
      "|---|---|---|\n",
      "| 3 | 4 | 5 |\n",
      "|---|---|---|\n",
      "| 6 | 7 | 8 |\n",
      "|---|---|---|\n",
      "\n",
      "Depth: 4, Move: right\n",
      "|---|---|---|\n",
      "| 1 |   | 2 |\n",
      "|---|---|---|\n",
      "| 3 | 4 | 5 |\n",
      "|---|---|---|\n",
      "| 6 | 7 | 8 |\n",
      "|---|---|---|\n",
      "\n",
      "Depth: 5, Move: right, Solution\n",
      "|---|---|---|\n",
      "|   | 1 | 2 |\n",
      "|---|---|---|\n",
      "| 3 | 4 | 5 |\n",
      "|---|---|---|\n",
      "| 6 | 7 | 8 |\n",
      "|---|---|---|\n",
      "\n"
     ]
    }
   ],
   "source": [
    "# find path to solution\n",
    "path = find_path(solution)\n",
    "\n",
    "# display path to solution\n",
    "display_path(path)"
   ]
  },
  {
   "cell_type": "markdown",
   "id": "3af431ee-52de-4f12-a48c-316f4d9d584f",
   "metadata": {},
   "source": [
    "## A* Search Algorithm\n",
    "\n",
    "A* Search is an informed search algorithm that uses a heuristic function to estimate the cost of reaching the goal from the current state. It selects the next state to explore based on the sum of the actual cost to reach the current state and the estimated cost to reach the goal from the current state."
   ]
  },
  {
   "cell_type": "markdown",
   "id": "3b93164d-9757-4ea5-9a1c-fee7ca6e6c03",
   "metadata": {},
   "source": [
    "### APuzzle and ANode Classes"
   ]
  },
  {
   "cell_type": "markdown",
   "id": "c9b87ea9-e457-48b9-b8d8-3332e96b0b18",
   "metadata": {},
   "source": [
    "#### Define APuzzle and ANode classes from respective base class"
   ]
  },
  {
   "cell_type": "code",
   "execution_count": 27,
   "id": "2cae4f6a-7382-4904-a829-05908ebe4625",
   "metadata": {},
   "outputs": [],
   "source": [
    "class APuzzle(Puzzle):\n",
    "    def __init__(self, cols, rows):\n",
    "        super().__init__(cols, rows)\n",
    "        \n",
    "    def calculate_distance_score(self, pos):\n",
    "        n = self.board[pos]\n",
    "        raw_distance = abs(pos - n)\n",
    "        if raw_distance in [1, 3]:\n",
    "            return 1\n",
    "        if raw_distance in [2, 4, 6]:\n",
    "            return 2\n",
    "        if raw_distance in [5, 7]:\n",
    "            return 4\n",
    "        if raw_distance in [8]:\n",
    "            return 8\n",
    "        \n",
    "    def calculate_cost(self, depth):\n",
    "        h = 0\n",
    "        for i in range(cols*rows):\n",
    "            if self.board[i] != self.goal[i] and self.board[i] != 0:\n",
    "                h = h + self.calculate_distance_score(i)\n",
    "        return h + depth"
   ]
  },
  {
   "cell_type": "code",
   "execution_count": 28,
   "id": "67996481-a409-450a-92c2-971445de2403",
   "metadata": {},
   "outputs": [],
   "source": [
    "class ANode(Node):\n",
    "    def __init__(self, state):\n",
    "        super().__init__(state)\n",
    "        self.cost = None\n",
    "        \n",
    "    def expand(self, states):\n",
    "        super().expand(states)\n",
    "        for c in self.child:\n",
    "            if c != None:\n",
    "                c.cost = c.state.calculate_cost(self.depth + 1)"
   ]
  },
  {
   "cell_type": "markdown",
   "id": "cbf1ab5b-e983-493f-9556-f87b44588582",
   "metadata": {},
   "source": [
    "#### Test APuzzle and ANode classes"
   ]
  },
  {
   "cell_type": "code",
   "execution_count": 29,
   "id": "84d182ab-e48a-437b-9ecf-91a00afc15b0",
   "metadata": {},
   "outputs": [],
   "source": [
    "apuzzle = ANode(APuzzle(cols, rows))\n",
    "apuzzle.state.shuffle(5)"
   ]
  },
  {
   "cell_type": "code",
   "execution_count": 30,
   "id": "0ad9a2af-e61f-4744-971c-37e1718aa411",
   "metadata": {},
   "outputs": [
    {
     "data": {
      "text/plain": [
       "|---|---|---|\n",
       "| 3 | 1 | 2 |\n",
       "|---|---|---|\n",
       "| 4 | 5 | 8 |\n",
       "|---|---|---|\n",
       "| 6 |   | 7 |\n",
       "|---|---|---|"
      ]
     },
     "execution_count": 30,
     "metadata": {},
     "output_type": "execute_result"
    }
   ],
   "source": [
    "apuzzle.state"
   ]
  },
  {
   "cell_type": "markdown",
   "id": "53720714-3386-46c8-86ca-8f90a44623ed",
   "metadata": {},
   "source": [
    "### A* Search Algorithm"
   ]
  },
  {
   "cell_type": "markdown",
   "id": "143febb9-a36a-48e5-a3cd-2a2395b800a6",
   "metadata": {},
   "source": [
    "#### Function Definition"
   ]
  },
  {
   "cell_type": "code",
   "execution_count": 31,
   "id": "1f364974-49ba-4f09-8925-40c8cd85a994",
   "metadata": {},
   "outputs": [],
   "source": [
    "def a_star(root, verbose=False):\n",
    "    # start timer\n",
    "    start = time.time()\n",
    "    \n",
    "    # initialize queue\n",
    "    queue = [root]\n",
    "    states = [root.state.board]\n",
    "    solution = None\n",
    "    \n",
    "    # loop to find solution\n",
    "    depth = 0\n",
    "    while True:\n",
    "        # create the working queue\n",
    "        working_queue = []\n",
    "        while queue:\n",
    "            working_queue.append(queue.pop(0))\n",
    "        print('Working queue: %d' % len(working_queue)) if verbose else None\n",
    "        \n",
    "        # check if any of the node solves the puzzle\n",
    "        i = 0\n",
    "        for n in working_queue:\n",
    "            # check if solved\n",
    "            print('checking %d node' % (i+1)) if verbose else None\n",
    "            i = i + 1\n",
    "            print(n.state) if verbose else None\n",
    "            if n.is_solved():\n",
    "                print('found!') if verbose else None\n",
    "                solution = n # found the solution!\n",
    "        \n",
    "        if solution != None:\n",
    "            break\n",
    "\n",
    "        # expand nodes\n",
    "        for n in working_queue:\n",
    "            print('expanding...') if verbose else None\n",
    "            n.expand(states)\n",
    "        \n",
    "        # find least cost\n",
    "        least = None\n",
    "        for n in working_queue:\n",
    "            for i in range(4):\n",
    "                if n.child[i] != None:\n",
    "                    states.append(n.child[i].state.board) # add child state to list of unique states\n",
    "                    if least == None:\n",
    "                        least = n.child[i].cost\n",
    "                    else:\n",
    "                        if least > n.child[i].cost:\n",
    "                            least = n.child[i].cost\n",
    "        \n",
    "        # add new nodes to queue\n",
    "        for n in working_queue:\n",
    "            for i in range(4):\n",
    "                if n.child[i] != None:\n",
    "                    print('Depth: %d, Child: %d, Cost: %d' % (depth, i, n.child[i].cost)) if verbose else None\n",
    "                    if n.child[i].cost == least:\n",
    "                        queue.append(copy.deepcopy(n.child[i]))\n",
    "                else:\n",
    "                    print('Depth: %d, Child: %d, None' % (depth, i)) if verbose else None\n",
    "        \n",
    "        print('Least cost: %d' % least) if verbose else None\n",
    "        \n",
    "        depth = depth + 1\n",
    "                \n",
    "    # end timer\n",
    "    end = time.time()\n",
    "    \n",
    "    # return solution and other useful variables\n",
    "    return solution, queue, states, (end-start) * 10**3"
   ]
  },
  {
   "cell_type": "markdown",
   "id": "358fc42a-05a5-474f-9c44-aeeddc69788e",
   "metadata": {},
   "source": [
    "#### Algorithm Testing"
   ]
  },
  {
   "cell_type": "code",
   "execution_count": 32,
   "id": "32fbc92b-a155-4828-8a54-41577949069f",
   "metadata": {},
   "outputs": [],
   "source": [
    "solution, queue, states, time_elapsed = a_star(apuzzle)"
   ]
  },
  {
   "cell_type": "code",
   "execution_count": 33,
   "id": "4e7cdecb-36fb-4626-a14b-43adf04af8c5",
   "metadata": {},
   "outputs": [
    {
     "name": "stdout",
     "output_type": "stream",
     "text": [
      "Starting problem:\n",
      "|---|---|---|\n",
      "| 1 |   | 5 |\n",
      "|---|---|---|\n",
      "| 3 | 2 | 4 |\n",
      "|---|---|---|\n",
      "| 6 | 7 | 8 |\n",
      "|---|---|---|\n",
      "\n",
      "Solution total depth: 5\n",
      "Ending queue size: 0\n",
      "Nodes evaluated (popped): 12\n",
      "Nodes expanded (total): 12\n",
      "Elapsed time: 5 ms\n"
     ]
    }
   ],
   "source": [
    "display_stats(root.state, solution, queue, states, time_elapsed)"
   ]
  },
  {
   "cell_type": "code",
   "execution_count": 34,
   "id": "cb822002-e717-4d2f-8d5d-a63d4abd1c7d",
   "metadata": {},
   "outputs": [
    {
     "name": "stdout",
     "output_type": "stream",
     "text": [
      "Depth: 0, Problem\n",
      "|---|---|---|\n",
      "| 3 | 1 | 2 |\n",
      "|---|---|---|\n",
      "| 4 | 5 | 8 |\n",
      "|---|---|---|\n",
      "| 6 |   | 7 |\n",
      "|---|---|---|\n",
      "\n",
      "Depth: 1, Move: left\n",
      "|---|---|---|\n",
      "| 3 | 1 | 2 |\n",
      "|---|---|---|\n",
      "| 4 | 5 | 8 |\n",
      "|---|---|---|\n",
      "| 6 | 7 |   |\n",
      "|---|---|---|\n",
      "\n",
      "Depth: 2, Move: down\n",
      "|---|---|---|\n",
      "| 3 | 1 | 2 |\n",
      "|---|---|---|\n",
      "| 4 | 5 |   |\n",
      "|---|---|---|\n",
      "| 6 | 7 | 8 |\n",
      "|---|---|---|\n",
      "\n",
      "Depth: 3, Move: right\n",
      "|---|---|---|\n",
      "| 3 | 1 | 2 |\n",
      "|---|---|---|\n",
      "| 4 |   | 5 |\n",
      "|---|---|---|\n",
      "| 6 | 7 | 8 |\n",
      "|---|---|---|\n",
      "\n",
      "Depth: 4, Move: right\n",
      "|---|---|---|\n",
      "| 3 | 1 | 2 |\n",
      "|---|---|---|\n",
      "|   | 4 | 5 |\n",
      "|---|---|---|\n",
      "| 6 | 7 | 8 |\n",
      "|---|---|---|\n",
      "\n",
      "Depth: 5, Move: down, Solution\n",
      "|---|---|---|\n",
      "|   | 1 | 2 |\n",
      "|---|---|---|\n",
      "| 3 | 4 | 5 |\n",
      "|---|---|---|\n",
      "| 6 | 7 | 8 |\n",
      "|---|---|---|\n",
      "\n"
     ]
    }
   ],
   "source": [
    "# find path to solution\n",
    "path = find_path(solution)\n",
    "\n",
    "# display path to solution\n",
    "display_path(path)"
   ]
  },
  {
   "cell_type": "markdown",
   "id": "54fa4bd0-f976-4d2b-9868-001c4382dcdd",
   "metadata": {},
   "source": [
    "## Benchmark: BFS vs. A* Search Algorithm"
   ]
  },
  {
   "cell_type": "markdown",
   "id": "25261f70-d677-4930-b298-92f8e2c240c9",
   "metadata": {},
   "source": [
    "### Test BFS with increasing complexity"
   ]
  },
  {
   "cell_type": "code",
   "execution_count": 35,
   "id": "fac4a65d-e1fa-4d6a-a544-898f61621a6e",
   "metadata": {},
   "outputs": [
    {
     "name": "stdout",
     "output_type": "stream",
     "text": [
      "Start solving the 3x3 puzzle problem with increasing complexity using BFS\n",
      "Solution will iteration 3 times for each complexity level from 1 until 10\n",
      "Solving 8-puzzle problem with level 1 complexity...finished in 0 ms avg\n",
      "Solving 8-puzzle problem with level 2 complexity...finished in 1 ms avg\n",
      "Solving 8-puzzle problem with level 3 complexity...finished in 20 ms avg\n",
      "Solving 8-puzzle problem with level 4 complexity...finished in 31 ms avg\n",
      "Solving 8-puzzle problem with level 5 complexity...finished in 163 ms avg\n",
      "Solving 8-puzzle problem with level 6 complexity...finished in 212 ms avg\n",
      "Solving 8-puzzle problem with level 7 complexity...finished in 1692 ms avg\n",
      "Solving 8-puzzle problem with level 8 complexity...finished in 4135 ms avg\n",
      "Solving 8-puzzle problem with level 9 complexity...finished in 14887 ms avg\n",
      "Solving 8-puzzle problem with level 10 complexity...finished in 33005 ms avg\n"
     ]
    }
   ],
   "source": [
    "max_complexity = 10\n",
    "iteration = 3\n",
    "complexity_metric = []\n",
    "depth_metric = []\n",
    "elapsed_metric = []\n",
    "ending_queue_size_metric = []\n",
    "nodes_evaluated_metric = []\n",
    "nodes_expanded_metric = []\n",
    "\n",
    "print('Start solving the %dx%d puzzle problem with increasing complexity using BFS' % (cols, rows))\n",
    "print('Solution will iteration %d times for each complexity level from 1 until %d' % (iteration, max_complexity))\n",
    "for i in range(max_complexity):\n",
    "    # initialize\n",
    "    metrics = []\n",
    "    puzzle = Node(Puzzle(cols, rows))\n",
    "    puzzle.state.shuffle(i+1)\n",
    "    \n",
    "    print('Solving 8-puzzle problem with level %d complexity...' % (i+1), end='')\n",
    "    depth = 0\n",
    "    elapsed = 0\n",
    "    ending_queue_size = 0\n",
    "    nodes_evaluated = 0\n",
    "    nodes_expanded = 0\n",
    "    for j in range(iteration):\n",
    "        solution, queue, states, time_elapsed = bfs(puzzle)\n",
    "        depth = depth + solution.depth\n",
    "        elapsed = elapsed + time_elapsed\n",
    "        ending_queue_size = ending_queue_size + len(queue)\n",
    "        nodes_expanded = nodes_expanded + len(states)\n",
    "    print('finished in %d ms avg' % time_elapsed)\n",
    "    \n",
    "    # compile all metrics\n",
    "    complexity_metric.append(i+1) # complexity\n",
    "    depth_metric.append(depth / iteration) # solution depth\n",
    "    elapsed_metric.append(elapsed / iteration) # run time\n",
    "    ending_queue_size_metric.append(ending_queue_size / iteration) # ending queue size\n",
    "    nodes_evaluated_metric.append((nodes_expanded / iteration) - ending_queue_size / iteration) # nodes evaluated\n",
    "    nodes_expanded_metric.append(nodes_expanded / iteration) # nodes expanded"
   ]
  },
  {
   "cell_type": "code",
   "execution_count": 36,
   "id": "24448e33-ffc1-4c27-ad13-4eb9931846de",
   "metadata": {},
   "outputs": [],
   "source": [
    "bfs_data = {\n",
    "    'complexity': complexity_metric,\n",
    "    'depth': depth_metric,\n",
    "    'elapsed': elapsed_metric\n",
    "}"
   ]
  },
  {
   "cell_type": "markdown",
   "id": "e6ef7cec-635a-40ee-acd7-8c963b82564a",
   "metadata": {},
   "source": [
    "### Test A* Search Algorithm with increasing complexity"
   ]
  },
  {
   "cell_type": "code",
   "execution_count": 37,
   "id": "3c86e394-2194-4d65-95e9-2bba8449a40c",
   "metadata": {},
   "outputs": [
    {
     "name": "stdout",
     "output_type": "stream",
     "text": [
      "Start solving the 3x3 puzzle problem with increasing complexity using A* aearch algorithm\n",
      "Solution will iteration 3 times for each complexity level from 1 until 10\n",
      "Solving 8-puzzle problem with level 1 complexity...finished in 0 ms avg\n",
      "Solving 8-puzzle problem with level 2 complexity...finished in 1 ms avg\n",
      "Solving 8-puzzle problem with level 3 complexity...finished in 2 ms avg\n",
      "Solving 8-puzzle problem with level 4 complexity...finished in 2 ms avg\n",
      "Solving 8-puzzle problem with level 5 complexity...finished in 5 ms avg\n",
      "Solving 8-puzzle problem with level 6 complexity...finished in 6 ms avg\n",
      "Solving 8-puzzle problem with level 7 complexity...finished in 7 ms avg\n",
      "Solving 8-puzzle problem with level 8 complexity...finished in 22 ms avg\n",
      "Solving 8-puzzle problem with level 9 complexity...finished in 60 ms avg\n",
      "Solving 8-puzzle problem with level 10 complexity...finished in 19 ms avg\n"
     ]
    }
   ],
   "source": [
    "max_complexity = 10\n",
    "iteration = 3\n",
    "complexity_metric = []\n",
    "depth_metric = []\n",
    "elapsed_metric = []\n",
    "ending_queue_size_metric = []\n",
    "nodes_evaluated_metric = []\n",
    "nodes_expanded_metric = []\n",
    "\n",
    "print('Start solving the %dx%d puzzle problem with increasing complexity using A* aearch algorithm' % (cols, rows))\n",
    "print('Solution will iteration %d times for each complexity level from 1 until %d' % (iteration, max_complexity))\n",
    "for i in range(max_complexity):\n",
    "    # initialize\n",
    "    metrics = []\n",
    "    puzzle = ANode(APuzzle(cols, rows))\n",
    "    puzzle.state.shuffle(i+1)\n",
    "    \n",
    "    print('Solving 8-puzzle problem with level %d complexity...' % (i+1), end='')\n",
    "    depth = 0\n",
    "    elapsed = 0\n",
    "    ending_queue_size = 0\n",
    "    nodes_evaluated = 0\n",
    "    nodes_expanded = 0\n",
    "    for j in range(iteration):\n",
    "        solution, queue, states, time_elapsed = a_star(puzzle)\n",
    "        depth = depth + solution.depth\n",
    "        elapsed = elapsed + time_elapsed\n",
    "        ending_queue_size = ending_queue_size + len(queue)\n",
    "        nodes_expanded = nodes_expanded + len(states)\n",
    "    print('finished in %d ms avg' % time_elapsed)\n",
    "    \n",
    "    # compile all metrics\n",
    "    complexity_metric.append(i+1) # complexity\n",
    "    depth_metric.append(depth / iteration) # solution depth\n",
    "    elapsed_metric.append(elapsed / iteration) # run time\n",
    "    ending_queue_size_metric.append(ending_queue_size / iteration) # ending queue size\n",
    "    nodes_evaluated_metric.append((nodes_expanded / iteration) - ending_queue_size / iteration) # nodes evaluated\n",
    "    nodes_expanded_metric.append(nodes_expanded / iteration) # nodes expanded"
   ]
  },
  {
   "cell_type": "code",
   "execution_count": 38,
   "id": "76031c0d-e37e-4200-8ac2-33941b419137",
   "metadata": {},
   "outputs": [],
   "source": [
    "a_star_data = {\n",
    "    'complexity': complexity_metric,\n",
    "    'depth': depth_metric,\n",
    "    'elapsed': elapsed_metric\n",
    "}"
   ]
  },
  {
   "cell_type": "markdown",
   "id": "7c7dc68a-2a9e-4c43-ae8e-511400dabb92",
   "metadata": {},
   "source": [
    "### Comparison"
   ]
  },
  {
   "cell_type": "markdown",
   "id": "ee6645b9-218c-4c16-9647-91b484393ea6",
   "metadata": {},
   "source": [
    "#### BFS"
   ]
  },
  {
   "cell_type": "code",
   "execution_count": 39,
   "id": "787efee7-1b45-448b-943e-dbf97a5b3b9a",
   "metadata": {},
   "outputs": [
    {
     "data": {
      "image/png": "[encoded data removed]",
      "text/plain": [
       "<Figure size 640x480 with 1 Axes>"
      ]
     },
     "metadata": {},
     "output_type": "display_data"
    }
   ],
   "source": [
    "plt.plot('complexity', 'elapsed', data=bfs_data)\n",
    "plt.ylabel('Elapsed Time (ms)')\n",
    "plt.xlabel('Complexity')\n",
    "plt.show()"
   ]
  },
  {
   "cell_type": "markdown",
   "id": "8a91cde7-82f8-4d85-9dd8-51b325d044a3",
   "metadata": {},
   "source": [
    "#### A* Search"
   ]
  },
  {
   "cell_type": "code",
   "execution_count": 40,
   "id": "2c0c35a6-9e73-472a-8c44-6361ebaf2f3a",
   "metadata": {},
   "outputs": [
    {
     "data": {
      "image/png": "[encoded data removed]",
      "text/plain": [
       "<Figure size 640x480 with 1 Axes>"
      ]
     },
     "metadata": {},
     "output_type": "display_data"
    }
   ],
   "source": [
    "plt.plot('complexity', 'elapsed', data=a_star_data)\n",
    "plt.ylabel('Elapsed Time (ms)')\n",
    "plt.xlabel('Complexity')\n",
    "plt.show()"
   ]
  },
  {
   "cell_type": "code",
   "execution_count": null,
   "id": "7d5de055-9682-46c3-bfc6-3e1a6825224d",
   "metadata": {},
   "outputs": [],
   "source": []
  }
 ],
 "metadata": {
  "kernelspec": {
   "display_name": "Python 3 (ipykernel)",
   "language": "python",
   "name": "python3"
  },
  "language_info": {
   "codemirror_mode": {
    "name": "ipython",
    "version": 3
   },
   "file_extension": ".py",
   "mimetype": "text/x-python",
   "name": "python",
   "nbconvert_exporter": "python",
   "pygments_lexer": "ipython3",
   "version": "3.9.16"
  }
 },
 "nbformat": 4,
 "nbformat_minor": 5
}
